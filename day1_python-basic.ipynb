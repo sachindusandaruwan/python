{
 "cells": [
  {
   "cell_type": "code",
   "execution_count": null,
   "metadata": {},
   "outputs": [],
   "source": []
  },
  {
   "cell_type": "code",
   "execution_count": 2,
   "metadata": {},
   "outputs": [
    {
     "name": "stdout",
     "output_type": "stream",
     "text": [
      "2.59\n",
      "<class 'float'>\n"
     ]
    }
   ],
   "source": [
    "a = 2.59;\n",
    "print(a);\n",
    "print(type(a));"
   ]
  },
  {
   "cell_type": "code",
   "execution_count": 3,
   "metadata": {},
   "outputs": [
    {
     "name": "stdout",
     "output_type": "stream",
     "text": [
      "5 <class 'int'>\n"
     ]
    }
   ],
   "source": [
    "c = 5.0;\n",
    "d = int(c);\n",
    "print(d, type(d));"
   ]
  },
  {
   "cell_type": "code",
   "execution_count": 18,
   "metadata": {},
   "outputs": [
    {
     "name": "stdout",
     "output_type": "stream",
     "text": [
      "4\n",
      "[20, 30, 10, 15] <class 'list'>\n",
      "index2 :  10\n"
     ]
    }
   ],
   "source": [
    "my_list = [20, 30 , 10, 15];\n",
    "print(len(my_list))\n",
    "print(my_list, type(my_list));\n",
    "print('index2 : ', my_list[2]);"
   ]
  },
  {
   "cell_type": "code",
   "execution_count": 21,
   "metadata": {},
   "outputs": [
    {
     "name": "stdout",
     "output_type": "stream",
     "text": [
      "[20, 30, 'cat', 'dog', True] <class 'list'>\n",
      "index4 :  True\n",
      "index4 :  Kaluwa\n",
      "[20, 30, 'cat', 'dog', 'Kaluwa']\n",
      "5\n",
      "Kaluwa\n",
      "[30, 'cat', 'dog'] <class 'list'>\n",
      "[20, 30, 'cat']\n",
      "['cat', 'dog', 'Kaluwa']\n"
     ]
    }
   ],
   "source": [
    "my_list = [20, 30 , 'cat', 'dog', True]; # python lists are ordered // python list allow duplicate\n",
    "print(my_list, type(my_list));\n",
    "print('index4 : ', my_list[4]);\n",
    "my_list[4] = 'Kaluwa';\n",
    "print('index4 : ', my_list[4]);\n",
    "print(my_list);\n",
    "print(len(my_list));\n",
    "print(my_list[-1]); # Negative indexing mechanism\n",
    "\n",
    "print(my_list[1:4], type(my_list[1:4])); # also return list \n",
    "print(my_list[:3]); # return first 3 values of the list\n",
    "\n",
    "print(my_list[2:])"
   ]
  },
  {
   "cell_type": "code",
   "execution_count": 25,
   "metadata": {},
   "outputs": [
    {
     "name": "stdout",
     "output_type": "stream",
     "text": [
      "[20, 'Carrot', 17.0, 15]\n",
      "5\n",
      "[20, 'Carrot', 'Rat', 17.0, 15]\n",
      "6\n",
      "[20, 'Carrot', 'Rat', 'Saman', 17.0, 15]\n",
      "7\n",
      "[20, 'Carrot', 'Rat', 'Saman', 17.0, 15, 'Kaluwa']\n"
     ]
    }
   ],
   "source": [
    "my_list = [20, 30 , 10, 15];\n",
    "my_list[1:3] = [\"Carrot\", 17.0] \n",
    "print(my_list)\n",
    "\n",
    "my_list.insert(2, \"Rat\")\n",
    "print(len(my_list))\n",
    "print(my_list)\n",
    "\n",
    "my_list.insert(3, \"Saman\")\n",
    "print(len(my_list))\n",
    "print(my_list)\n",
    "\n",
    "my_list.append(\"Kaluwa\") # Add value at end of the array\n",
    "print(len(my_list))\n",
    "print(my_list)\n"
   ]
  },
  {
   "cell_type": "code",
   "execution_count": null,
   "metadata": {},
   "outputs": [
    {
     "name": "stdout",
     "output_type": "stream",
     "text": [
      "8\n",
      "[20, 30, 10, 15, 1, 2, 3, 4]\n"
     ]
    }
   ],
   "source": [
    "my_list = [20, 30 , 10, 15];\n",
    "my_list_1 = [1, 2, 3, 4]\n",
    "my_list.extend(my_list_1)\n",
    "print(len(my_list))\n",
    "print(my_list)\n",
    "\n",
    "\n"
   ]
  },
  {
   "cell_type": "code",
   "execution_count": 1,
   "metadata": {},
   "outputs": [
    {
     "name": "stdout",
     "output_type": "stream",
     "text": [
      "3\n",
      "[20, 30, 15]\n",
      "0\n",
      "[]\n"
     ]
    }
   ],
   "source": [
    "my_list = [20, 30 , 10, 15];\n",
    "del my_list[2]\n",
    "print(len(my_list))\n",
    "print(my_list)\n",
    "\n",
    "# del my_list #destroy the list\n",
    "# print(len(my_list))\n",
    "# print(my_list)\n",
    "\n",
    "my_list.clear() # empty list []\n",
    "print(len(my_list))\n",
    "print(my_list)\n"
   ]
  },
  {
   "cell_type": "code",
   "execution_count": 31,
   "metadata": {},
   "outputs": [
    {
     "name": "stdout",
     "output_type": "stream",
     "text": [
      "['apple', 'banana', 'grapes', 'orange']\n"
     ]
    }
   ],
   "source": [
    "my_list = [\"grapes\", \"apple\", \"orange\", \"banana\"]\n",
    "my_list.sort() # This function set the list to accending order\n",
    "print(my_list) # ['apple', 'banana', 'grapes', 'orange']"
   ]
  },
  {
   "cell_type": "code",
   "execution_count": 32,
   "metadata": {},
   "outputs": [
    {
     "name": "stdout",
     "output_type": "stream",
     "text": [
      "['Grapes', 'apple', 'banana', 'orange']\n"
     ]
    }
   ],
   "source": [
    "my_list = [\"Grapes\", \"apple\", \"orange\", \"banana\"]\n",
    "my_list.sort() # sort() function is case sensitive..\n",
    "print(my_list) # ['Grapes', 'apple', 'banana', 'orange']\n"
   ]
  },
  {
   "cell_type": "code",
   "execution_count": 33,
   "metadata": {},
   "outputs": [
    {
     "name": "stdout",
     "output_type": "stream",
     "text": [
      "['apple', 'banana', 'Grapes', 'orange']\n"
     ]
    }
   ],
   "source": [
    "my_list = [\"Grapes\", \"apple\", \"orange\", \"banana\"]\n",
    "my_list.sort(key=str.lower) # remove case sensitivity (case insensitive)\n",
    "print(my_list) # ['apple', 'banana', 'grapes', 'orange']\n"
   ]
  },
  {
   "cell_type": "code",
   "execution_count": 34,
   "metadata": {},
   "outputs": [
    {
     "name": "stdout",
     "output_type": "stream",
     "text": [
      "[3, 5, 8, 10, 25]\n"
     ]
    }
   ],
   "source": [
    "my_list = [5,3,10,25,8]\n",
    "my_list.sort()\n",
    "print(my_list)"
   ]
  },
  {
   "cell_type": "code",
   "execution_count": 35,
   "metadata": {},
   "outputs": [
    {
     "name": "stdout",
     "output_type": "stream",
     "text": [
      "[25, 10, 8, 5, 3]\n"
     ]
    }
   ],
   "source": [
    "my_list = [5,3,10,25,8]\n",
    "my_list.sort(reverse=True) # this will reverse the list\n",
    "print(my_list) #[25, 10, 8, 5, 3]"
   ]
  },
  {
   "cell_type": "code",
   "execution_count": 36,
   "metadata": {},
   "outputs": [
    {
     "name": "stdout",
     "output_type": "stream",
     "text": [
      "[12, 10, 13, 4, 1, 5, 6, 1, 7, 8, 10]\n",
      "[1, 1, 4, 5, 6, 7, 8, 10, 10, 12, 13]\n",
      "7\n",
      "3\n",
      "4\n",
      "9\n",
      "10\n"
     ]
    }
   ],
   "source": [
    "my_list_1 = [12,10,13,4,1,5]\n",
    "my_list_2 = [6,1,7,8,10]\n",
    "\n",
    "my_list_1.extend(my_list_2)\n",
    "print(my_list_1)\n",
    "my_list_1.sort()\n",
    "print(my_list_1)\n",
    "\n",
    "position_of_median = int((len(my_list_1)+1)/2)\n",
    "# print(position_of_median)\n",
    "median = my_list_1[position_of_median-1]\n",
    "print(median)\n",
    "\n",
    "position_of_q1 = int((len(my_list_1)+1)/4)\n",
    "print(position_of_q1)\n",
    "q1 = my_list_1[position_of_q1 - 1]\n",
    "print(q1)\n",
    "\n",
    "position_of_q3 = int((len(my_list_1)+1)/4)*3\n",
    "print(position_of_q3)\n",
    "q3 = my_list_1[position_of_q3 - 1]\n",
    "print(q3)"
   ]
  }
 ],
 "metadata": {
  "kernelspec": {
   "display_name": "Python 3",
   "language": "python",
   "name": "python3"
  },
  "language_info": {
   "codemirror_mode": {
    "name": "ipython",
    "version": 3
   },
   "file_extension": ".py",
   "mimetype": "text/x-python",
   "name": "python",
   "nbconvert_exporter": "python",
   "pygments_lexer": "ipython3",
   "version": "3.13.0"
  }
 },
 "nbformat": 4,
 "nbformat_minor": 2
}
