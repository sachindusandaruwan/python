{
 "cells": [
  {
   "cell_type": "code",
   "execution_count": null,
   "metadata": {},
   "outputs": [
    {
     "name": "stdout",
     "output_type": "stream",
     "text": [
      "created\n"
     ]
    }
   ],
   "source": [
    "#switch case\n",
    "\n",
    "response_code=201\n",
    "\n",
    "match response_code:\n",
    "    case 200:\n",
    "        print(\"ok\")\n",
    "    case 201:\n",
    "        print(\"created\")\n",
    "    case 404:\n",
    "        print(\"404 not found\")\n",
    "    case 500:\n",
    "        print(\"internal sever error\")\n",
    "    case _:\n",
    "        print(\"somthing else\")"
   ]
  },
  {
   "cell_type": "code",
   "execution_count": null,
   "metadata": {},
   "outputs": [
    {
     "name": "stdout",
     "output_type": "stream",
     "text": [
      "10\n"
     ]
    }
   ],
   "source": [
    "# numbers=[1,5,3]\n",
    "numbers=[5,2]\n",
    "\n",
    "match numbers:\n",
    "    case[x,y]:\n",
    "        print(x*y)\n",
    "    case[x,y,z]:\n",
    "        print(x*y*z)\n",
    "    case _:\n",
    "        print(\"somthing else\")"
   ]
  },
  {
   "cell_type": "code",
   "execution_count": null,
   "metadata": {},
   "outputs": [
    {
     "name": "stdout",
     "output_type": "stream",
     "text": [
      "three element\n"
     ]
    }
   ],
   "source": [
    "numbers=[4,3,7]\n",
    "\n",
    "x=len(numbers)\n",
    "\n",
    "match x:\n",
    "    case 0:\n",
    "        print(\"empty list\")\n",
    "    case 1:\n",
    "        print(\"one element\")\n",
    "    case 2:\n",
    "        print(\"two element\")\n",
    "    case 3:\n",
    "        print(\"three element\")\n",
    "    case _:\n",
    "        print(\"somthing else\")"
   ]
  },
  {
   "cell_type": "code",
   "execution_count": null,
   "metadata": {},
   "outputs": [
    {
     "name": "stdout",
     "output_type": "stream",
     "text": [
      "three element\n"
     ]
    }
   ],
   "source": [
    "numbers=[4,3,7]\n",
    "\n",
    "\n",
    "\n",
    "match numbers:\n",
    "    case []:\n",
    "        print(\"empty list\")\n",
    "    case [x]:\n",
    "        print(\"one element\")\n",
    "    case [x,y]:\n",
    "        print(\"two element\")\n",
    "    case [x,y,z]:\n",
    "        print(\"three element\")\n",
    "    case _:\n",
    "        print(\"somthing else\")"
   ]
  },
  {
   "cell_type": "code",
   "execution_count": null,
   "metadata": {},
   "outputs": [
    {
     "name": "stdout",
     "output_type": "stream",
     "text": [
      "orange\n",
      "mango\n",
      "banana\n"
     ]
    }
   ],
   "source": [
    "#loops\n",
    "\n",
    "#for loop\n",
    "\n",
    "fruits=[\"orange\",\"mango\",\"banana\"]\n",
    "\n",
    "for fruit in fruits:\n",
    "    print(fruit)"
   ]
  },
  {
   "cell_type": "code",
   "execution_count": null,
   "metadata": {},
   "outputs": [
    {
     "name": "stdout",
     "output_type": "stream",
     "text": [
      "[49, 25, 64, 16, 81, 144]\n"
     ]
    }
   ],
   "source": [
    "\n",
    "numbers=[7,5,8,4,9,12]\n",
    "new_num=[]\n",
    "\n",
    "\n",
    "for num in numbers:\n",
    "    x=(num*num)\n",
    "    new_num.append(x)\n",
    "\n",
    "print(new_num)\n"
   ]
  },
  {
   "cell_type": "code",
   "execution_count": 4,
   "metadata": {},
   "outputs": [
    {
     "name": "stdout",
     "output_type": "stream",
     "text": [
      "[1, 4, 9, 16, 25]\n"
     ]
    }
   ],
   "source": [
    "user_input = input(\"Enter a number:\")  #user_input=9\n",
    "user_input = int(user_input)\n",
    "new = []\n",
    "\n",
    "for number in range(1, user_input+1):  #eg : rang(1,2,3,4,5,6,7,8,9)\n",
    "    new.append(number**2)\n",
    "print(new)"
   ]
  },
  {
   "cell_type": "code",
   "execution_count": null,
   "metadata": {},
   "outputs": [
    {
     "name": "stdout",
     "output_type": "stream",
     "text": [
      "1\n",
      "2\n",
      "3\n",
      "4\n",
      "5\n",
      "6\n",
      "7\n",
      "8\n"
     ]
    }
   ],
   "source": [
    "range_1= range(1,9)\n",
    "for num in range_1:\n",
    "    print(num)"
   ]
  },
  {
   "cell_type": "code",
   "execution_count": null,
   "metadata": {},
   "outputs": [
    {
     "name": "stdout",
     "output_type": "stream",
     "text": [
      "[4, 144, 81, 64]\n"
     ]
    }
   ],
   "source": [
    "numbers=[2,12,9,8]\n",
    "result=[num*num for num in numbers]\n",
    "print(result)"
   ]
  },
  {
   "cell_type": "code",
   "execution_count": null,
   "metadata": {},
   "outputs": [
    {
     "name": "stdout",
     "output_type": "stream",
     "text": [
      "[64, 144, 25, 16]\n"
     ]
    }
   ],
   "source": [
    "numbers=[8,12,-1,5,4,0,-3]\n",
    "result=[num*num for num in numbers if num>0]\n",
    "print(result)\n",
    "\n",
    "\n"
   ]
  },
  {
   "cell_type": "code",
   "execution_count": 53,
   "metadata": {},
   "outputs": [
    {
     "name": "stdout",
     "output_type": "stream",
     "text": [
      "1\n",
      "2\n",
      "3\n"
     ]
    }
   ],
   "source": [
    "#while loop\n",
    "\n",
    "user_input=int(input(\"enter number\"))\n",
    "\n",
    "# count=user_input\n",
    "count=1\n",
    "\n",
    "while user_input>=count:\n",
    "    print(count)\n",
    "    count+=1\n",
    "    \n",
    "   \n"
   ]
  },
  {
   "cell_type": "code",
   "execution_count": null,
   "metadata": {},
   "outputs": [
    {
     "name": "stdout",
     "output_type": "stream",
     "text": [
      "[1, 4, 9, 16]\n"
     ]
    }
   ],
   "source": [
    "num=int(input(\"enter number\"))\n",
    "\n",
    "sq_number=[]\n",
    "count=1\n",
    "while num>0:\n",
    "    sq_number.append(count*count)\n",
    "    count+=1\n",
    "    num-=1\n",
    "print(sq_number)"
   ]
  },
  {
   "cell_type": "code",
   "execution_count": 57,
   "metadata": {},
   "outputs": [
    {
     "name": "stdout",
     "output_type": "stream",
     "text": [
      "[1, 4, 9, 16]\n"
     ]
    }
   ],
   "source": [
    "num=int(input(\"enter number\"))\n",
    "\n",
    "sq_number=[]\n",
    "temp_sq=1\n",
    "count=1\n",
    "\n",
    "while temp_sq <= num:\n",
    "    sq_number.append(temp_sq)\n",
    "    count+=1\n",
    "    temp_sq=count*count\n",
    "print(sq_number)"
   ]
  },
  {
   "cell_type": "code",
   "execution_count": 58,
   "metadata": {},
   "outputs": [
    {
     "name": "stdout",
     "output_type": "stream",
     "text": [
      "8\n",
      "9\n",
      "3\n"
     ]
    }
   ],
   "source": [
    "my_list=[8,9,3,0,12,15]\n",
    "\n",
    "for item in my_list:\n",
    "    if item==0:\n",
    "        break\n",
    "    else:\n",
    "        print(item)"
   ]
  },
  {
   "cell_type": "code",
   "execution_count": 59,
   "metadata": {},
   "outputs": [
    {
     "name": "stdout",
     "output_type": "stream",
     "text": [
      "8\n",
      "9\n",
      "3\n",
      "12\n",
      "15\n"
     ]
    }
   ],
   "source": [
    "my_list=[8,9,3,0,12,15]\n",
    "\n",
    "for item in my_list:\n",
    "    if item==0:\n",
    "        continue\n",
    "    else:\n",
    "        print(item)"
   ]
  },
  {
   "cell_type": "code",
   "execution_count": null,
   "metadata": {},
   "outputs": [
    {
     "name": "stdout",
     "output_type": "stream",
     "text": [
      "81\n",
      "you enterd 0...so exits loop\n"
     ]
    }
   ],
   "source": [
    "input_number=1\n",
    "\n",
    "while(input_number>=0):\n",
    "    input_number=int(input(\"enter number\"))\n",
    "\n",
    "    if(input_number==0):\n",
    "        print(\"you enter 0...so exits loop\")\n",
    "        break\n",
    "    else:\n",
    "        new_value=input_number*input_number\n",
    "        print(new_value)\n",
    "\n"
   ]
  },
  {
   "cell_type": "code",
   "execution_count": 65,
   "metadata": {},
   "outputs": [
    {
     "name": "stdout",
     "output_type": "stream",
     "text": [
      "9\n",
      "9\n",
      "16\n"
     ]
    }
   ],
   "source": [
    "\n",
    "\n",
    "while True:\n",
    "    x=int(input(\"enter number\"))\n",
    "    if x==0:\n",
    "        break\n",
    "    else:\n",
    "        print(x*x)\n"
   ]
  },
  {
   "cell_type": "code",
   "execution_count": 78,
   "metadata": {},
   "outputs": [
    {
     "name": "stdout",
     "output_type": "stream",
     "text": [
      "name jhon\n",
      "age 25\n",
      "gender male\n"
     ]
    }
   ],
   "source": [
    "person={\n",
    "    \"name\":\"jhon\",\n",
    "    \"age\":25,\n",
    "    \"gender\":\"male\"\n",
    "    #key      #value\n",
    "}\n",
    "\n",
    "for key,value in person.items():\n",
    "    print(key,value)"
   ]
  },
  {
   "cell_type": "code",
   "execution_count": 79,
   "metadata": {},
   "outputs": [
    {
     "name": "stdout",
     "output_type": "stream",
     "text": [
      "name\n",
      "age\n",
      "gender\n"
     ]
    }
   ],
   "source": [
    "person={\n",
    "    \"name\":\"jhon\",\n",
    "    \"age\":25,\n",
    "    \"gender\":\"male\"\n",
    "    #key      #value\n",
    "}\n",
    "\n",
    "for key in person.keys():\n",
    "    print(key)"
   ]
  },
  {
   "cell_type": "code",
   "execution_count": 80,
   "metadata": {},
   "outputs": [
    {
     "name": "stdout",
     "output_type": "stream",
     "text": [
      "jhon\n",
      "25\n",
      "male\n"
     ]
    }
   ],
   "source": [
    "person={\n",
    "    \"name\":\"jhon\",\n",
    "    \"age\":25,\n",
    "    \"gender\":\"male\"\n",
    "    #key      #value\n",
    "}\n",
    "\n",
    "for value in person.values():\n",
    "    print(value)"
   ]
  },
  {
   "cell_type": "code",
   "execution_count": 93,
   "metadata": {},
   "outputs": [
    {
     "name": "stdout",
     "output_type": "stream",
     "text": [
      "8\n",
      "9\n"
     ]
    }
   ],
   "source": [
    "def add_number(a,b=5):\n",
    "    return a+b\n",
    "\n",
    "print(add_number(3))\n",
    "print(add_number(3,6))"
   ]
  },
  {
   "cell_type": "code",
   "execution_count": 96,
   "metadata": {},
   "outputs": [
    {
     "name": "stdout",
     "output_type": "stream",
     "text": [
      "8\n"
     ]
    }
   ],
   "source": [
    "# def add_number(a,b=5,c):\n",
    "#     return a+b+c\n",
    "\n",
    "# print(add_number(3,4,6))\n",
    "\n",
    "# this is a wrong\n",
    "\n",
    "def add_number(a,b,c=5):\n",
    "    return a+b+c\n",
    "\n",
    "print(add_number(3,4,1))\n",
    "\n"
   ]
  },
  {
   "cell_type": "code",
   "execution_count": 98,
   "metadata": {},
   "outputs": [
    {
     "name": "stdout",
     "output_type": "stream",
     "text": [
      "8\n"
     ]
    }
   ],
   "source": [
    "def add_number(a,b=8,c=5):\n",
    "    return a+b+c\n",
    "\n",
    "print(add_number(3,4,1))"
   ]
  },
  {
   "cell_type": "code",
   "execution_count": 99,
   "metadata": {},
   "outputs": [
    {
     "name": "stdout",
     "output_type": "stream",
     "text": [
      "8\n"
     ]
    }
   ],
   "source": [
    "#  positional arguments\n",
    "\n",
    "def add_number(a,b):\n",
    "    return a+b\n",
    "\n",
    "print(add_number(3,5))"
   ]
  },
  {
   "cell_type": "code",
   "execution_count": 100,
   "metadata": {},
   "outputs": [
    {
     "name": "stdout",
     "output_type": "stream",
     "text": [
      "15\n"
     ]
    }
   ],
   "source": [
    "def add_numbers(a,b):\n",
    "    return a+b\n",
    "\n",
    "print(add_numbers(a=8,b=7))"
   ]
  },
  {
   "cell_type": "code",
   "execution_count": 113,
   "metadata": {},
   "outputs": [
    {
     "name": "stdout",
     "output_type": "stream",
     "text": [
      "discount : 0.0\n",
      "tax value : 0.0\n",
      "4000.0\n",
      "discount : 800.0\n",
      "tax value : 128.0\n",
      "3328.0\n",
      "discount : 0.0\n",
      "tax value : 0.0\n",
      "4000.0\n"
     ]
    }
   ],
   "source": [
    "def calculate_cost(price,qty,disc=0,tax=0):\n",
    "\n",
    "    item_value=price*qty\n",
    "\n",
    "    discount=item_value*(disc/100)\n",
    "    print(\"discount :\",discount)\n",
    "\n",
    "    new_item_value=item_value-discount\n",
    "\n",
    "    tax_value=new_item_value*tax/100\n",
    "    print(\"tax value :\",tax_value)\n",
    "\n",
    "    real_price=new_item_value+tax_value\n",
    "\n",
    "    return real_price\n",
    "\n",
    "print(calculate_cost(1000,4))\n",
    "print(calculate_cost(1000,4,20,4))\n",
    "print(calculate_cost(1000,4,0,0))\n"
   ]
  },
  {
   "cell_type": "code",
   "execution_count": 4,
   "metadata": {},
   "outputs": [
    {
     "name": "stdout",
     "output_type": "stream",
     "text": [
      "I love computer programming,\n",
      "I am studen of IJSE ,\n",
      "I live in Matara\n"
     ]
    }
   ],
   "source": [
    "#python String\n",
    "\n",
    "#we can use '' or \"\"\n",
    "\n",
    "my_string=\"\"\"I love computer programming,\n",
    "I am studen of IJSE ,\n",
    "I live in Matara\"\"\"\n",
    "\n",
    "print(my_string)"
   ]
  },
  {
   "cell_type": "code",
   "execution_count": 5,
   "metadata": {},
   "outputs": [
    {
     "name": "stdout",
     "output_type": "stream",
     "text": [
      "I love computer programming,\n",
      "I am studen of IJSE ,\n",
      "I live in Matara\n"
     ]
    }
   ],
   "source": [
    "my_string='''I love computer programming,\n",
    "I am studen of IJSE ,\n",
    "I live in Matara'''\n",
    "\n",
    "print(my_string)"
   ]
  },
  {
   "cell_type": "code",
   "execution_count": null,
   "metadata": {},
   "outputs": [],
   "source": [
    "'''this is comment 1\n",
    "this is comment 2'''"
   ]
  },
  {
   "cell_type": "code",
   "execution_count": 9,
   "metadata": {},
   "outputs": [
    {
     "name": "stdout",
     "output_type": "stream",
     "text": [
      "12\n",
      "w\n",
      "llow w\n"
     ]
    }
   ],
   "source": [
    "my_str=\"hellow world\"\n",
    "\n",
    "print(len(my_str))\n",
    "print(my_str[5])\n",
    "print(my_str[2:8])"
   ]
  },
  {
   "cell_type": "code",
   "execution_count": 10,
   "metadata": {},
   "outputs": [
    {
     "name": "stdout",
     "output_type": "stream",
     "text": [
      "HELLOW WORLD\n",
      "hellow world\n"
     ]
    }
   ],
   "source": [
    "my_str=\"hellow world\"\n",
    "\n",
    "#string ekaka serama capital karanna \n",
    "print(my_str.upper())\n",
    "\n",
    "#string ekaka serama simple karanna \n",
    "print(my_str.lower())"
   ]
  },
  {
   "cell_type": "code",
   "execution_count": null,
   "metadata": {},
   "outputs": [
    {
     "name": "stdout",
     "output_type": "stream",
     "text": [
      "   Hellow world   \n",
      "Hellow world\n",
      "   Hellow world   \n"
     ]
    }
   ],
   "source": [
    "my_str=\"   Hellow world   \"\n",
    "print(my_str)\n",
    "\n",
    "#white space ain karanna \n",
    "print(my_str.strip())\n",
    "print(my_str)"
   ]
  }
 ],
 "metadata": {
  "kernelspec": {
   "display_name": "Python 3",
   "language": "python",
   "name": "python3"
  },
  "language_info": {
   "codemirror_mode": {
    "name": "ipython",
    "version": 3
   },
   "file_extension": ".py",
   "mimetype": "text/x-python",
   "name": "python",
   "nbconvert_exporter": "python",
   "pygments_lexer": "ipython3",
   "version": "3.13.0"
  }
 },
 "nbformat": 4,
 "nbformat_minor": 2
}
