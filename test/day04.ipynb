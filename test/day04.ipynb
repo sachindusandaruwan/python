{
 "cells": [
  {
   "cell_type": "code",
   "execution_count": null,
   "metadata": {},
   "outputs": [
    {
     "name": "stdout",
     "output_type": "stream",
     "text": [
      "(1, 5, 9, 3, 7, 'hawa')\n",
      "<class 'tuple'>\n"
     ]
    }
   ],
   "source": [
    "#Arbitrary positional argument\n",
    "\n",
    "def arbitrary_positional_argument(*args):\n",
    "    print(args)\n",
    "    print(type(args))\n",
    "\n",
    "    \n",
    "arbitrary_positional_argument(1,5,9,3,7,\"hawa\")\n",
    "\n",
    "\n",
    "    "
   ]
  },
  {
   "cell_type": "code",
   "execution_count": 6,
   "metadata": {},
   "outputs": [
    {
     "name": "stdout",
     "output_type": "stream",
     "text": [
      "1\n",
      "5\n",
      "9\n",
      "3\n",
      "7\n",
      "hawa\n"
     ]
    }
   ],
   "source": [
    "def arbitrary_positional_argument(*args):\n",
    "   for x in args:\n",
    "      print(x)\n",
    "    \n",
    "arbitrary_positional_argument(1,5,9,3,7,\"hawa\")"
   ]
  },
  {
   "cell_type": "code",
   "execution_count": null,
   "metadata": {},
   "outputs": [
    {
     "name": "stdout",
     "output_type": "stream",
     "text": [
      "Dimuth\n",
      "9\n",
      "5\n",
      "6.75\n"
     ]
    }
   ],
   "source": [
    "def summerize_grades(name,*args):\n",
    "    print(name)\n",
    "\n",
    "    length=len(args)\n",
    "    if length==0 :               #if not args:  \n",
    "        print(\"no grade available\")\n",
    "    else:\n",
    "        highest=max(args)\n",
    "        print(highest)\n",
    "\n",
    "        lowest=min(args)\n",
    "        print(lowest)\n",
    "\n",
    "        total=sum(args)\n",
    "        average=float(total/length)\n",
    "\n",
    "        print(average)\n",
    "\n",
    "summerize_grades('Dimuth',9,7,6,5)\n",
    "    "
   ]
  },
  {
   "cell_type": "code",
   "execution_count": 29,
   "metadata": {},
   "outputs": [
    {
     "name": "stdout",
     "output_type": "stream",
     "text": [
      "{'name': 'saman', 'age': 20, 'address': 'matara'} <class 'dict'>\n"
     ]
    }
   ],
   "source": [
    "#Arbitrary keyword argument\n",
    "\n",
    "def arbitrary_keyword_argument(**kwargs):\n",
    "    print(kwargs,type(kwargs))\n",
    "    \n",
    "       \n",
    "\n",
    "arbitrary_keyword_argument(name=\"saman\",age=20,address=\"matara\")"
   ]
  },
  {
   "cell_type": "code",
   "execution_count": 1,
   "metadata": {},
   "outputs": [
    {
     "name": "stdout",
     "output_type": "stream",
     "text": [
      "{'name': 'saman', 'age': 20, 'address': 'matara'} <class 'dict'>\n",
      "name  :  saman\n",
      "age  :  20\n",
      "address  :  matara\n"
     ]
    }
   ],
   "source": [
    "def arbitrary_keyword_argument(**kwargs):\n",
    "    print(kwargs,type(kwargs))\n",
    "    for key,value in kwargs.items():\n",
    "       print(key ,\" : \",value)\n",
    "       \n",
    "\n",
    "arbitrary_keyword_argument(name=\"saman\",age=20,address=\"matara\")"
   ]
  },
  {
   "cell_type": "code",
   "execution_count": 40,
   "metadata": {},
   "outputs": [
    {
     "name": "stdout",
     "output_type": "stream",
     "text": [
      "name = saman\n",
      "address  :  matara\n",
      "age  :  22\n",
      "gender  :  male\n",
      "{'name': 'saman', 'address': 'matara', 'age': 22, 'gender': 'male'}\n"
     ]
    }
   ],
   "source": [
    "def employee_info(name,**employee_details):\n",
    "    print('name','=',name)\n",
    "    # dectionary=employee_details.copy()\n",
    "    for key,value in employee_details.items():\n",
    "        print(key,' : ',value)\n",
    "        \n",
    "    # dectionary={'name':name,**employee_details}\n",
    "    dectionary={'name':name}|{**employee_details}\n",
    "\n",
    "    print(dectionary)\n",
    "    \n",
    "\n",
    "\n",
    "employee_info(name=\"saman\",address=\"matara\",age=22,gender=\"male\")"
   ]
  },
  {
   "cell_type": "code",
   "execution_count": null,
   "metadata": {},
   "outputs": [
    {
     "ename": "IndentationError",
     "evalue": "expected an indented block after 'for' statement on line 4 (548921553.py, line 7)",
     "output_type": "error",
     "traceback": [
      "\u001b[1;36m  Cell \u001b[1;32mIn[4], line 7\u001b[1;36m\u001b[0m\n\u001b[1;33m    dectionary[employee_details]\u001b[0m\n\u001b[1;37m    ^\u001b[0m\n\u001b[1;31mIndentationError\u001b[0m\u001b[1;31m:\u001b[0m expected an indented block after 'for' statement on line 4\n"
     ]
    }
   ],
   "source": [
    "def employee_info(name,**employee_details):\n",
    "    print('name','=',name)\n",
    "    dectionary={'name':name}\n",
    "    for key,value in employee_details.items():\n",
    "         print(key,' : ',value)\n",
    "        \n",
    "    dectionary[employee_details]\n",
    "\n",
    "    # print(dectionary)\n",
    "    \n",
    "\n",
    "\n",
    "employee_info(name=\"saman\",address=\"matara\",age=22,gender=\"male\")"
   ]
  },
  {
   "cell_type": "code",
   "execution_count": null,
   "metadata": {},
   "outputs": [
    {
     "name": "stdout",
     "output_type": "stream",
     "text": [
      "3\n"
     ]
    }
   ],
   "source": [
    "\n",
    "print(abs(-3))    #mapankaya gannawa wage seen ekak(rina dunnath dana dunnath ganne + value eka)"
   ]
  },
  {
   "cell_type": "code",
   "execution_count": null,
   "metadata": {},
   "outputs": [
    {
     "name": "stdout",
     "output_type": "stream",
     "text": [
      "<map object at 0x000001EB85D73010>\n",
      "[4, 25, 36, 64, 81] <class 'list'>\n"
     ]
    }
   ],
   "source": [
    "#map function\n",
    "\n",
    "#map(function,iterable)\n",
    "\n",
    "my_list=[2,5,6,8,9]\n",
    "\n",
    "def calculate(x):\n",
    "    y=x*x\n",
    "    # print(y)\n",
    "    return(y)\n",
    "\n",
    "result=map(calculate,my_list)\n",
    "print(result) #meka list ekakata convert karanna one\n",
    "result_list=list(result)\n",
    "print(result_list,type(result_list))"
   ]
  },
  {
   "cell_type": "code",
   "execution_count": null,
   "metadata": {},
   "outputs": [
    {
     "name": "stdout",
     "output_type": "stream",
     "text": [
      "<map object at 0x000001EB85D7C670>\n",
      "[4, 9, 11, 10]\n"
     ]
    }
   ],
   "source": [
    "#map(function,iterable,iterable)\n",
    "\n",
    "my_list_1=[1,3,6,8]\n",
    "my_list_2=[3,6,5,2]\n",
    "\n",
    "def count_function(x,y):\n",
    "    z=x+y\n",
    "    return(z)\n",
    "\n",
    "result=map(count_function,my_list_1,my_list_2)\n",
    "print(result)\n",
    "print(list(result))"
   ]
  },
  {
   "cell_type": "code",
   "execution_count": 61,
   "metadata": {},
   "outputs": [
    {
     "name": "stdout",
     "output_type": "stream",
     "text": [
      "[68.0, 86.0, 77.0, 104.0, 59.0]\n"
     ]
    }
   ],
   "source": [
    "tempreatures=[20,30,25,40,15]\n",
    "\n",
    "def convert_fahrenheit(celcius):\n",
    "    fahrenhite=float((celcius*(9/5))+32)\n",
    "    return fahrenhite\n",
    "result=map(convert_fahrenheit,tempreatures)\n",
    "print(list(result))"
   ]
  },
  {
   "cell_type": "code",
   "execution_count": 66,
   "metadata": {},
   "outputs": [
    {
     "name": "stdout",
     "output_type": "stream",
     "text": [
      "<filter object at 0x000001EB85D23FD0> <class 'filter'>\n",
      "[6, 8, 2, 4]\n"
     ]
    }
   ],
   "source": [
    "#filter()\n",
    "#filter(function,iterable)      meke iterable ekai puluwan/function->boolean tre,false\n",
    "\n",
    "my_list=[5,6,9,8,2,4]\n",
    "def check_even(value):\n",
    "    return(value%2==0)\n",
    "\n",
    "result=filter(check_even,my_list)\n",
    "print(result,type(result))\n",
    "print(list(result))\n"
   ]
  },
  {
   "cell_type": "code",
   "execution_count": 5,
   "metadata": {},
   "outputs": [
    {
     "name": "stdout",
     "output_type": "stream",
     "text": [
      "12\n"
     ]
    }
   ],
   "source": [
    "#lambda function\n",
    "\n",
    "# lambda x,y :x+y\n",
    "\n",
    "add=lambda x,y:x+y\n",
    "print(add(5,7))\n"
   ]
  },
  {
   "cell_type": "code",
   "execution_count": 69,
   "metadata": {},
   "outputs": [
    {
     "name": "stdout",
     "output_type": "stream",
     "text": [
      "36\n"
     ]
    }
   ],
   "source": [
    "number=int(input('enter number'))\n",
    "\n",
    "fun=lambda x: x**2\n",
    "print(fun(number))"
   ]
  },
  {
   "cell_type": "code",
   "execution_count": null,
   "metadata": {},
   "outputs": [
    {
     "name": "stdout",
     "output_type": "stream",
     "text": [
      "[('Alise', 23), ('andrew', 25)]\n"
     ]
    }
   ],
   "source": [
    "list_tuple=[('Alise',23),('John',17),('andrew',25),('kate',15)]\n",
    "\n",
    "filter_age=lambda list_tuples:list_tuples[1]>=18\n",
    "\n",
    "list_tuple_covert_to_list=list(list_tuple)\n",
    "\n",
    "filter_people=filter(filter_age,list_tuple)\n",
    "print(list(filter_people))\n",
    "        "
   ]
  },
  {
   "cell_type": "code",
   "execution_count": null,
   "metadata": {},
   "outputs": [
    {
     "name": "stdout",
     "output_type": "stream",
     "text": [
      "[('Alise', 23), ('andrew', 25)]\n"
     ]
    }
   ],
   "source": [
    "peoples=[('Alise',23),('John',17),('andrew',25),('kate',15)]\n",
    "\n",
    "filter_age=lambda people : people[1]>=18 \n",
    "\n",
    "filter_people=filter(filter_age,peoples)\n",
    "\n",
    "#filter_age=lambda people : people[1]>=18 nisa \n",
    "# filter_people=filter(lambda people : people[1]>=18 ,peoples)\n",
    "\n",
    "filter_people=list(filter_people)\n",
    "\n",
    "print(filter_people)\n",
    "\n"
   ]
  },
  {
   "cell_type": "code",
   "execution_count": null,
   "metadata": {},
   "outputs": [
    {
     "name": "stdout",
     "output_type": "stream",
     "text": [
      "6\n"
     ]
    }
   ],
   "source": [
    "def my_func(n):\n",
    "    return lambda a:a*n\n",
    "\n",
    "my_dubler=my_func(2)   #my_dubler= lambda a: a*2\n",
    "print(my_dubler(3))"
   ]
  },
  {
   "cell_type": "code",
   "execution_count": null,
   "metadata": {},
   "outputs": [
    {
     "name": "stdout",
     "output_type": "stream",
     "text": [
      "8\n"
     ]
    }
   ],
   "source": [
    "lage_num=lambda x,y: x if x>y else y\n",
    "\n",
    "print(lage_num(8,7))\n",
    "\n",
    "\n"
   ]
  },
  {
   "cell_type": "code",
   "execution_count": 4,
   "metadata": {},
   "outputs": [
    {
     "name": "stdout",
     "output_type": "stream",
     "text": [
      "24\n"
     ]
    }
   ],
   "source": [
    "# recursive function\n",
    "\n",
    "input_num = int(input(\"Enter a number: \"))\n",
    "i = input_num-1\n",
    "while True:\n",
    "    if i <= 1 :\n",
    "        break\n",
    "    else :\n",
    "        input_num = input_num * i\n",
    "        i = i-1\n",
    "print(input_num)"
   ]
  },
  {
   "cell_type": "code",
   "execution_count": 6,
   "metadata": {},
   "outputs": [
    {
     "name": "stdout",
     "output_type": "stream",
     "text": [
      "40320\n"
     ]
    }
   ],
   "source": [
    "def find_factorial(number):\n",
    "    if number==0:\n",
    "        return 1\n",
    "\n",
    "    fact=1\n",
    "    for i in range(1,number+1):\n",
    "            fact*=i\n",
    "\n",
    "    return fact\n",
    "        \n",
    "print(find_factorial(8))"
   ]
  },
  {
   "cell_type": "code",
   "execution_count": 22,
   "metadata": {},
   "outputs": [
    {
     "name": "stdout",
     "output_type": "stream",
     "text": [
      "720\n"
     ]
    }
   ],
   "source": [
    "#recursive function\n",
    "def find_factorial(x):\n",
    "    if x==0 or x==1:\n",
    "        return 1\n",
    "    else:\n",
    "        return(x*find_factorial(x-1))\n",
    "    \n",
    "print(find_factorial(6))\n",
    "    "
   ]
  },
  {
   "cell_type": "code",
   "execution_count": 25,
   "metadata": {},
   "outputs": [],
   "source": [
    "# def find_factorial(x):\n",
    "#     if x==0 or x==1:\n",
    "#         return 1\n",
    "#     else:\n",
    "#         return(x*find_factorial(x-1))\n",
    "    \n",
    "# print(find_factorial(10000))  "
   ]
  },
  {
   "cell_type": "code",
   "execution_count": null,
   "metadata": {},
   "outputs": [
    {
     "name": "stdout",
     "output_type": "stream",
     "text": [
      "27\n"
     ]
    }
   ],
   "source": [
    "list=[5,9,8,3,2]\n",
    "\n",
    "def sum_of_element(array):\n",
    "    if len(array)==1:\n",
    "        return array[0]\n",
    "    else:\n",
    "       \n",
    "       return array[0]+sum_of_element(array[1:])\n",
    "    \n",
    "        #5 +sum_of_element(array[1:])\n",
    "        #   ------------------------\n",
    "        #             |\n",
    "\n",
    "        #5 +          9 +sum_of_element(array[1:])\n",
    "        #               ------------------------\n",
    "        #                        |\n",
    "        #5 +          9 +        8+sum_of_element(array[1:])\n",
    "        #                           ------------------------\n",
    "        #                                      |\n",
    "        #5 +          9 +        8+            3+sum_of_element(array[1:])\n",
    "        #                                          ------------------------\n",
    "        #                                                      |\n",
    "        #5 +          9 +        8+            3 +              2\n",
    "\n",
    "print(sum_of_element(list))\n",
    "\n",
    "\n"
   ]
  }
 ],
 "metadata": {
  "kernelspec": {
   "display_name": "Python 3",
   "language": "python",
   "name": "python3"
  },
  "language_info": {
   "codemirror_mode": {
    "name": "ipython",
    "version": 3
   },
   "file_extension": ".py",
   "mimetype": "text/x-python",
   "name": "python",
   "nbconvert_exporter": "python",
   "pygments_lexer": "ipython3",
   "version": "3.13.0"
  }
 },
 "nbformat": 4,
 "nbformat_minor": 2
}
