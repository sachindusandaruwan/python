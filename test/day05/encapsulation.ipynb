{
 "cells": [
  {
   "cell_type": "code",
   "execution_count": null,
   "metadata": {},
   "outputs": [
    {
     "name": "stdout",
     "output_type": "stream",
     "text": [
      "10\n",
      "20\n"
     ]
    },
    {
     "ename": "AttributeError",
     "evalue": "'MyCLass' object has no attribute '__var_3'",
     "output_type": "error",
     "traceback": [
      "\u001b[1;31m---------------------------------------------------------------------------\u001b[0m",
      "\u001b[1;31mAttributeError\u001b[0m                            Traceback (most recent call last)",
      "Cell \u001b[1;32mIn[1], line 10\u001b[0m\n\u001b[0;32m      8\u001b[0m \u001b[38;5;28mprint\u001b[39m(my_obj\u001b[38;5;241m.\u001b[39mvar_1)\n\u001b[0;32m      9\u001b[0m \u001b[38;5;28mprint\u001b[39m(my_obj\u001b[38;5;241m.\u001b[39m_var_2)\n\u001b[1;32m---> 10\u001b[0m \u001b[38;5;28mprint\u001b[39m(\u001b[43mmy_obj\u001b[49m\u001b[38;5;241;43m.\u001b[39;49m\u001b[43m__var_3\u001b[49m)\n",
      "\u001b[1;31mAttributeError\u001b[0m: 'MyCLass' object has no attribute '__var_3'"
     ]
    }
   ],
   "source": [
    "# Encapsulation in Python\n",
    "\n",
    "class MyClass:\n",
    "    def __init__(self):\n",
    "        self.var_1 = 10\n",
    "        self._var_2 = 20\n",
    "        self.__var_3 = 30\n",
    "\n",
    "my_obj = MyClass()\n",
    "print(my_obj.var_1)\n",
    "print(my_obj._var_2)\n",
    "print(my_obj.__var_3)"
   ]
  },
  {
   "cell_type": "code",
   "execution_count": null,
   "metadata": {},
   "outputs": [
    {
     "name": "stdout",
     "output_type": "stream",
     "text": [
      "This is a protected method\n"
     ]
    },
    {
     "ename": "AttributeError",
     "evalue": "'MyCLass' object has no attribute '__private_method'",
     "output_type": "error",
     "traceback": [
      "\u001b[1;31m---------------------------------------------------------------------------\u001b[0m",
      "\u001b[1;31mAttributeError\u001b[0m                            Traceback (most recent call last)",
      "Cell \u001b[1;32mIn[1], line 10\u001b[0m\n\u001b[0;32m      8\u001b[0m my_obj \u001b[38;5;241m=\u001b[39m MyCLass()\n\u001b[0;32m      9\u001b[0m my_obj\u001b[38;5;241m.\u001b[39m_protected_method()\n\u001b[1;32m---> 10\u001b[0m \u001b[43mmy_obj\u001b[49m\u001b[38;5;241;43m.\u001b[39;49m\u001b[43m__private_method\u001b[49m()\n",
      "\u001b[1;31mAttributeError\u001b[0m: 'MyCLass' object has no attribute '__private_method'"
     ]
    }
   ],
   "source": [
    "class MyClass:\n",
    "    def _protected_method(self):\n",
    "        print(\"This is a protected method\")\n",
    "\n",
    "    def __private_method(self):\n",
    "        print(\"This is a private method\")\n",
    "\n",
    "my_obj = MyClass()\n",
    "my_obj._protected_method()\n",
    "my_obj.__private_method()"
   ]
  },
  {
   "cell_type": "code",
   "execution_count": 5,
   "metadata": {},
   "outputs": [
    {
     "name": "stdout",
     "output_type": "stream",
     "text": [
      "10\n",
      "100\n"
     ]
    }
   ],
   "source": [
    "class MyClass:\n",
    "    def __init__(self):\n",
    "        self.__var = 10\n",
    "\n",
    "    def get_var(self):\n",
    "        return self.__var\n",
    "\n",
    "    def set_var(self, var):\n",
    "        self.__var = var\n",
    "\n",
    "my_obj = MyClass()\n",
    "print(my_obj.get_var())\n",
    "my_obj.set_var(100)\n",
    "print(my_obj.get_var())"
   ]
  },
  {
   "cell_type": "code",
   "execution_count": 7,
   "metadata": {},
   "outputs": [
    {
     "name": "stdout",
     "output_type": "stream",
     "text": [
      "Checking values\n"
     ]
    }
   ],
   "source": [
    "class MyClass:\n",
    "    def __init__(self):\n",
    "        self.__data = \"Some data\"\n",
    "\n",
    "    def __check_my_values(self):\n",
    "        print(\"Checking values\")\n",
    "\n",
    "    def get_data(self):\n",
    "        self.__check_my_values()\n",
    "    \n",
    "my_obj = MyClass()\n",
    "my_obj.get_data()    "
   ]
  },
  {
   "cell_type": "code",
   "execution_count": null,
   "metadata": {},
   "outputs": [
    {
     "name": "stdout",
     "output_type": "stream",
     "text": [
      "(2.0, 1.0)\n"
     ]
    }
   ],
   "source": [
    "'''\n",
    "Write a python program to create a class QuadaraticEquation that represent a quadratic equation of the form\n",
    "ax^2 + bx + c = 0. The class should have,\n",
    "\n",
    " 1. Attributes\n",
    "    - private attributes a, b and c to store the coefficients of the quadratic equation.\n",
    "\n",
    " 2. Methods\n",
    "    - a constructor to initialize the object with the coefficients a, b and c.\n",
    "    - a private method __discriminant() that calculates and returns the discriminant (d = b^2 - 4ac) of the quadratic equation.\n",
    "    - a public method find_roots() that\n",
    "        - use the private method __discriminant()\n",
    "        - return the roots of the quadratic equation\n",
    "            - d < 0 : \"No real roots\"\n",
    "            - d = 0 : \"One real root: root\"\n",
    "            - d > 0 : \"Two complex roots: root1 and root2\"\n",
    "'''\n",
    "\n",
    "class QuadraticEquation:\n",
    "    def __init__ (self, a, b, c):\n",
    "        self.__a = a\n",
    "        self.__b = b\n",
    "        self.__c = c\n",
    "\n",
    "    def __discriminant(self):\n",
    "        disriminent = self.__b ** 2 - 4 * self.__a * self.__c\n",
    "        return disriminent\n",
    "    \n",
    "    def find_roots(self):\n",
    "        if (self.__a == 0):\n",
    "            return \"The coefficient 'a' cannot be 0\"\n",
    "        d = self.__discriminant()\n",
    "        if (d < 0):\n",
    "            return \"Equation has no complex roots\"\n",
    "        elif (d == 0):\n",
    "            return -self.__b / (2 * self.__a)\n",
    "        elif (d > 0):\n",
    "            root1 = (-self.__b + d ** 0.5) / (2 * self.__a)\n",
    "            root2 = (-self.__b - d ** 0.5) / (2 * self.__a)\n",
    "            return root1, root2\n",
    "        \n",
    "q = QuadraticEquation(1, -3, 2)\n",
    "print(q.find_roots())"
   ]
  }
 ],
 "metadata": {
  "kernelspec": {
   "display_name": "Python 3",
   "language": "python",
   "name": "python3"
  },
  "language_info": {
   "codemirror_mode": {
    "name": "ipython",
    "version": 3
   },
   "file_extension": ".py",
   "mimetype": "text/x-python",
   "name": "python",
   "nbconvert_exporter": "python",
   "pygments_lexer": "ipython3",
   "version": "3.13.0"
  }
 },
 "nbformat": 4,
 "nbformat_minor": 2
}
