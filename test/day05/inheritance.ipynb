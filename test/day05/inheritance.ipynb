{
 "cells": [
  {
   "cell_type": "code",
   "execution_count": null,
   "metadata": {},
   "outputs": [
    {
     "name": "stdout",
     "output_type": "stream",
     "text": [
      "Woof\n"
     ]
    }
   ],
   "source": [
    "# Inheritence in Python\n",
    "\n",
    "class Animal:\n",
    "    def __init__(self, name):\n",
    "        self.name = name\n",
    "\n",
    "    def speak(self):\n",
    "        pass\n",
    "\n",
    "class Dog(Animal):\n",
    "    def speak(self):\n",
    "        print(\"Woof\")\n",
    "\n",
    "dog = Dog(\"Rex\")\n",
    "dog.speak()"
   ]
  },
  {
   "cell_type": "code",
   "execution_count": null,
   "metadata": {},
   "outputs": [
    {
     "name": "stdout",
     "output_type": "stream",
     "text": [
      "Rex\n",
      "Brown\n",
      "Kitty\n",
      "White\n"
     ]
    }
   ],
   "source": [
    "# super()\n",
    "\n",
    "class Animal:\n",
    "    def __init__(self, name):\n",
    "        self.name = name\n",
    "\n",
    "class Dog(Animal):\n",
    "    def __init__(self, name, color):\n",
    "        super().__init__(name)\n",
    "        self.color = color\n",
    "\n",
    "dog = Dog(\"Rex\", \"Brown\")\n",
    "print(dog.name)\n",
    "print(dog.color)\n",
    "\n",
    "class Cat(Animal):\n",
    "    def __init__(self, name, color):\n",
    "        Animal.__init__(self, name)\n",
    "        self.color = color\n",
    "\n",
    "cat = Cat(\"Kitty\", \"White\")\n",
    "print(cat.name)\n",
    "print(cat.color)"
   ]
  },
  {
   "cell_type": "code",
   "execution_count": null,
   "metadata": {},
   "outputs": [
    {
     "name": "stdout",
     "output_type": "stream",
     "text": [
      "Title: The Alchemist\n",
      "Author: Paulo Coelho\n",
      "Publication Year: 1988\n",
      "\n",
      "Title: The Alchemist\n",
      "Author: Paulo Coelho\n",
      "Publication Year: 1988\n",
      "Genre: Fiction\n",
      "ISBN: 978-0062315007\n",
      "\n",
      "Title: National Geographic\n",
      "Author: National Geographic Society\n",
      "Publication Year: 1888\n",
      "Issue: June 2021\n"
     ]
    }
   ],
   "source": [
    "'''\n",
    "Library management system\n",
    "\n",
    "Your task is to create a library management using inheritance.\n",
    "Implement the following classes:\n",
    "\n",
    "1. BaseClass (Parent class)\n",
    "2. LibraryItem\n",
    "    - attributes: title (string) , author (string) , publication_year (int)\n",
    "    - methods: display_info() -> print the details of the library item\n",
    "\n",
    "3. Book\n",
    "    - inherits form LibraryItem\n",
    "    - attributes: genre (string), isbn (string)\n",
    "    - override display_info() print the details including genre and isbn\n",
    "\n",
    "4. Magazine\n",
    "    - inherits form LibraryItem\n",
    "    - attributes: issue (string) - the issue number or date of the magazine\n",
    "    - override display_info() print the details including issue\n",
    "\n",
    "Task:\n",
    "- Create a instances of each class with appropriate values for their attributes\n",
    "- Call the display_info() method on each instance to test inheritance and method overriding        \n",
    "'''\n",
    "\n",
    "class BaseClass:\n",
    "    pass\n",
    "\n",
    "class LibraryItem(BaseClass):\n",
    "    def __init__ (self, title, author, publication_year):\n",
    "        self.title = title\n",
    "        self.author = author\n",
    "        self.publication_year = publication_year\n",
    "\n",
    "    def display_info(self):\n",
    "        print(\"Title:\", self.title)\n",
    "        print(\"Author:\", self.author)\n",
    "        print(\"Publication Year:\", self.publication_year)\n",
    "\n",
    "class Book(LibraryItem):\n",
    "    def __init__(self, title, author, publication_year, genre, isbn):\n",
    "        super().__init__(title, author, publication_year)\n",
    "        self.genre = genre\n",
    "        self.isbn = isbn\n",
    "\n",
    "    def display_info(self):\n",
    "        super().display_info()\n",
    "        print(\"Genre:\", self.genre)\n",
    "        print(\"ISBN:\", self.isbn)\n",
    "\n",
    "class Magazine(LibraryItem):\n",
    "    def __init__(self, title, author, publication_year, issue):\n",
    "        super().__init__(title, author, publication_year)\n",
    "        self.issue = issue\n",
    "\n",
    "    def display_info(self):\n",
    "        super().display_info()\n",
    "        print(\"Issue:\", self.issue)\n",
    "\n",
    "library_item = LibraryItem(\"Test Item\", \"Test Author\", 1988)\n",
    "library_item.display_info()\n",
    "print()\n",
    "book = Book(\"Test Item\", \"Test Author\", 1988, \"Fiction\", \"978-0062315007\")\n",
    "book.display_info()\n",
    "print()\n",
    "magazine = Magazine(\"Test Item\", \"National Geographic Society\", 1888, \"June 2021\")\n",
    "magazine.display_info()\n",
    "\n",
    "\n"
   ]
  }
 ],
 "metadata": {
  "kernelspec": {
   "display_name": "Python 3",
   "language": "python",
   "name": "python3"
  },
  "language_info": {
   "codemirror_mode": {
    "name": "ipython",
    "version": 3
   },
   "file_extension": ".py",
   "mimetype": "text/x-python",
   "name": "python",
   "nbconvert_exporter": "python",
   "pygments_lexer": "ipython3",
   "version": "3.13.0"
  }
 },
 "nbformat": 4,
 "nbformat_minor": 2
}
