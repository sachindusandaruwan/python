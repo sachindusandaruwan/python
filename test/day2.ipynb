{
 "cells": [
  {
   "cell_type": "code",
   "execution_count": null,
   "metadata": {},
   "outputs": [
    {
     "name": "stdout",
     "output_type": "stream",
     "text": [
      "apple\n",
      "8\n",
      "True\n",
      "8\n",
      "3\n",
      "<class 'tuple'>\n"
     ]
    }
   ],
   "source": [
    "# Tuple\n",
    "\n",
    "my_tuple=(\"apple\",8,True)\n",
    "\n",
    "print(my_tuple[1])\n",
    "print(len(my_tuple))\n",
    "print(type(my_tuple))"
   ]
  },
  {
   "cell_type": "code",
   "execution_count": 18,
   "metadata": {},
   "outputs": [
    {
     "name": "stdout",
     "output_type": "stream",
     "text": [
      "<class 'int'>\n",
      "<class 'tuple'>\n"
     ]
    }
   ],
   "source": [
    "my_tuple_1=(4)\n",
    "print(type(my_tuple_1))\n",
    "my_tuple_1=(4,)\n",
    "print(type(my_tuple_1))"
   ]
  },
  {
   "cell_type": "code",
   "execution_count": 6,
   "metadata": {},
   "outputs": [
    {
     "name": "stdout",
     "output_type": "stream",
     "text": [
      "12\n",
      "(10, 12)\n"
     ]
    }
   ],
   "source": [
    "my_tuple=(8,10,12,7)\n",
    "print(my_tuple[-2])\n",
    "print(my_tuple[1:3])"
   ]
  },
  {
   "cell_type": "code",
   "execution_count": 19,
   "metadata": {},
   "outputs": [
    {
     "name": "stdout",
     "output_type": "stream",
     "text": [
      "(8, 10, 12, 7)\n",
      "<class 'list'>\n",
      "[8, 10, 15, 7]\n",
      "<class 'tuple'>\n",
      "(8, 10, 15, 7)\n"
     ]
    }
   ],
   "source": [
    "my_tuple_1=(8,10,12,7)\n",
    "print(my_tuple_1)\n",
    "my_list_1=list(my_tuple_1)\n",
    "print(type(my_list_1))\n",
    "my_list_1[2]=15\n",
    "print(my_list_1)\n",
    "my_tuple_1=tuple(my_list_1)\n",
    "print(type(my_tuple_1))\n",
    "print(my_tuple_1)"
   ]
  },
  {
   "cell_type": "code",
   "execution_count": 1,
   "metadata": {},
   "outputs": [
    {
     "name": "stdout",
     "output_type": "stream",
     "text": [
      "((1, 2, 3), ['apple', 'banana', 'grapes'], (True, False))\n",
      "banana\n",
      "False\n"
     ]
    }
   ],
   "source": [
    "#nested tuple\n",
    "\n",
    "my_tuple_1=((1,2,3),[\"apple\",\"banana\",\"grapes\"],(True,False))\n",
    "print(my_tuple_1)\n",
    "print(my_tuple_1[1][1])\n",
    "print(my_tuple_1[2][1])"
   ]
  },
  {
   "cell_type": "code",
   "execution_count": 1,
   "metadata": {},
   "outputs": [
    {
     "name": "stdout",
     "output_type": "stream",
     "text": [
      "(1, 11, 2)\n",
      "<class 'range'>\n"
     ]
    }
   ],
   "source": [
    "# python Range\n",
    "\n",
    "#range=(start_value,end_value,step)\n",
    "range=(1,11,2)\n",
    "print(range)\n",
    "#1,3,5,7,9\n",
    "\n",
    "del range\n",
    "\n",
    "\n",
    "# range(1,11,2)\n",
    "range_1= range(1,11,2)\n",
    "print(type(range_1))\n",
    "\n",
    "\n",
    "\n"
   ]
  },
  {
   "cell_type": "code",
   "execution_count": null,
   "metadata": {},
   "outputs": [
    {
     "name": "stdout",
     "output_type": "stream",
     "text": [
      "{'name': 'susara', 'price': 250.0, 'weight': '1kg'}\n",
      "<class 'dict'>\n"
     ]
    }
   ],
   "source": [
    "#python dectionaries\n",
    "\n",
    "my_dict={\n",
    "    \"name\":\"susara\",\n",
    "    \"price\":250.00,\n",
    "    \"weight\":\"1kg\"\n",
    "}\n",
    "print(my_dict)\n",
    "\n",
    "print(type(my_dict))"
   ]
  },
  {
   "cell_type": "code",
   "execution_count": 62,
   "metadata": {},
   "outputs": [
    {
     "name": "stdout",
     "output_type": "stream",
     "text": [
      "{'name': 'susara', 'price': 270.0, 'weight': '1kg'}\n",
      "<class 'dict'>\n"
     ]
    }
   ],
   "source": [
    "#python dectionaries\n",
    "\n",
    "my_dict={\n",
    "    \"name\":\"susara\",\n",
    "    \"price\":250.00,\n",
    "    \"weight\":\"1kg\",\n",
    "    \"price\":270.00\n",
    "    #price ekata anthimata assign karana value eka assign karagannawa\n",
    "}\n",
    "print(my_dict)\n",
    "\n",
    "print(type(my_dict))"
   ]
  },
  {
   "cell_type": "code",
   "execution_count": null,
   "metadata": {},
   "outputs": [
    {
     "name": "stdout",
     "output_type": "stream",
     "text": [
      "{'name': 'susara', 'price': 250.0, 'weight': '1kg'}\n",
      "250.0\n",
      "{'name': 'susara', 'price': 300.0, 'weight': '1kg'}\n",
      "300.0\n"
     ]
    }
   ],
   "source": [
    "my_dict_2={\n",
    "    \"name\":\"susara\",\n",
    "    \"price\":250.00,\n",
    "    \"weight\":\"1kg\"\n",
    "}\n",
    "print(my_dict_2)\n",
    "\n",
    "print(my_dict_2[\"price\"])\n",
    "my_dict_2[\"price\"]=300.00\n",
    "print(my_dict_2)\n",
    "\n"
   ]
  },
  {
   "cell_type": "code",
   "execution_count": 2,
   "metadata": {},
   "outputs": [
    {
     "name": "stdout",
     "output_type": "stream",
     "text": [
      "{'name': 'susara', 'price': 250.0, 'weight': '1kg'}\n",
      "250.0\n",
      "None\n",
      "2025.05.01\n"
     ]
    }
   ],
   "source": [
    "my_dict_2={\n",
    "    \"name\":\"susara\",\n",
    "    \"price\":250.00,\n",
    "    \"weight\":\"1kg\"\n",
    "}\n",
    "print(my_dict_2)\n",
    "print(my_dict_2.get(\"price\"))\n",
    "print(my_dict_2.get(\"expier_date\"))\n",
    "print(my_dict_2.get(\"expier_date\",\"2025.05.01\"))\n",
    "\n"
   ]
  },
  {
   "cell_type": "code",
   "execution_count": 3,
   "metadata": {},
   "outputs": [
    {
     "name": "stdout",
     "output_type": "stream",
     "text": [
      "{'name': 'susara', 'price': 250.0, 'weight': '1kg'}\n",
      "{'name': 'susara', 'price': 350, 'weight': '2kg'}\n"
     ]
    }
   ],
   "source": [
    "my_dict_2={\n",
    "    \"name\":\"susara\",\n",
    "    \"price\":250.00,\n",
    "    \"weight\":\"1kg\"\n",
    "}\n",
    "print(my_dict_2)\n",
    "\n",
    "my_dict_2.update({\"price\":350,\"weight\":\"2kg\"})\n",
    "print(my_dict_2)"
   ]
  },
  {
   "cell_type": "code",
   "execution_count": 77,
   "metadata": {},
   "outputs": [
    {
     "name": "stdout",
     "output_type": "stream",
     "text": [
      "{'name': 'susara', 'price': 250.0, 'weight': '1kg'}\n",
      "{'name': 'susara', 'price': 250.0, 'weight': '1kg', 'color': 'white'}\n"
     ]
    }
   ],
   "source": [
    "my_dict_2={\n",
    "    \"name\":\"susara\",\n",
    "    \"price\":250.00,\n",
    "    \"weight\":\"1kg\"\n",
    "}\n",
    "print(my_dict_2)\n",
    "\n",
    "my_dict_2[\"color\"]=\"white\"\n",
    "print(my_dict_2)"
   ]
  },
  {
   "cell_type": "code",
   "execution_count": 78,
   "metadata": {},
   "outputs": [
    {
     "name": "stdout",
     "output_type": "stream",
     "text": [
      "{'name': 'susara', 'price': 250.0, 'weight': '1kg'}\n",
      "{'name': 'susara', 'price': 250.0}\n"
     ]
    }
   ],
   "source": [
    "my_dict_2={\n",
    "    \"name\":\"susara\",\n",
    "    \"price\":250.00,\n",
    "    \"weight\":\"1kg\"\n",
    "}\n",
    "print(my_dict_2)\n",
    "my_dict_2.pop(\"weight\")\n",
    "print(my_dict_2)"
   ]
  },
  {
   "cell_type": "code",
   "execution_count": 80,
   "metadata": {},
   "outputs": [
    {
     "name": "stdout",
     "output_type": "stream",
     "text": [
      "{'name': 'susara', 'price': 250.0, 'weight': '1kg'}\n",
      "{'name': 'susara', 'price': 250.0}\n"
     ]
    }
   ],
   "source": [
    "my_dict_2={\n",
    "    \"name\":\"susara\",\n",
    "    \"price\":250.00,\n",
    "    \"weight\":\"1kg\"\n",
    "}\n",
    "print(my_dict_2)\n",
    "\n",
    "del my_dict_2[\"weight\"]\n",
    "print(my_dict_2)"
   ]
  },
  {
   "cell_type": "code",
   "execution_count": 83,
   "metadata": {},
   "outputs": [
    {
     "name": "stdout",
     "output_type": "stream",
     "text": [
      "{'name': 'susara', 'price': 250.0, 'weight': '1kg'}\n",
      "3\n"
     ]
    }
   ],
   "source": [
    "my_dict_2={\n",
    "    \"name\":\"susara\",\n",
    "    \"price\":250.00,\n",
    "    \"weight\":\"1kg\"\n",
    "}\n",
    "print(my_dict_2)\n",
    "print(len(my_dict_2))\n",
    "\n",
    "del my_dict_2\n",
    "# print(my_dict_2)  error ekak enawa"
   ]
  },
  {
   "cell_type": "code",
   "execution_count": null,
   "metadata": {},
   "outputs": [
    {
     "name": "stdout",
     "output_type": "stream",
     "text": [
      "{'name': 'susara', 'price': 250.0, 'weight': '1kg'}\n",
      "0\n",
      "{}\n"
     ]
    }
   ],
   "source": [
    "my_dict_2={\n",
    "    \"name\":\"susara\",\n",
    "    \"price\":250.00,\n",
    "    \"weight\":\"1kg\"\n",
    "}\n",
    "print(my_dict_2)\n",
    "my_dict_2.clear()\n",
    "print(len(my_dict_2))\n",
    "print(my_dict_2)"
   ]
  },
  {
   "cell_type": "code",
   "execution_count": 88,
   "metadata": {},
   "outputs": [
    {
     "name": "stdout",
     "output_type": "stream",
     "text": [
      "{'name': 'susara', 'price': 250.0, 'weight': '1kg'}\n"
     ]
    }
   ],
   "source": [
    "my_dict_2={\n",
    "    \"name\":\"susara\",\n",
    "    \"price\":250.00,\n",
    "    \"weight\":\"1kg\"\n",
    "}\n",
    "\n",
    "my_dict_4=my_dict_2.copy()\n",
    "print(my_dict_4)"
   ]
  },
  {
   "cell_type": "code",
   "execution_count": 93,
   "metadata": {},
   "outputs": [
    {
     "name": "stdout",
     "output_type": "stream",
     "text": [
      "3.5\n",
      "2\n",
      "1\n"
     ]
    }
   ],
   "source": [
    "#Arithmatic operators\n",
    "y=7/2 #devison\n",
    "print(y)\n",
    "\n",
    "y=9//4 #floor devision\n",
    "print(y)\n",
    "\n",
    "y=7%3\n",
    "print(y)\n"
   ]
  },
  {
   "cell_type": "code",
   "execution_count": 97,
   "metadata": {},
   "outputs": [
    {
     "name": "stdout",
     "output_type": "stream",
     "text": [
      "12\n",
      "10\n"
     ]
    }
   ],
   "source": [
    "#Assignment Operators\n",
    "\n",
    "#add and assign (+=)\n",
    "x=8\n",
    "#x=x+4\n",
    "x += 4\n",
    "print(x)\n",
    "\n",
    "#subtract and assign (-=)\n",
    "x -= 2\n",
    "print(x)\n",
    "\n",
    "\n"
   ]
  },
  {
   "cell_type": "code",
   "execution_count": 99,
   "metadata": {},
   "outputs": [
    {
     "name": "stdout",
     "output_type": "stream",
     "text": [
      "False\n",
      "True\n"
     ]
    }
   ],
   "source": [
    "x=5\n",
    "y=6\n",
    "\n",
    "print(x==y)\n",
    "\n",
    "print(x!=y)\n"
   ]
  },
  {
   "cell_type": "code",
   "execution_count": 102,
   "metadata": {},
   "outputs": [
    {
     "name": "stdout",
     "output_type": "stream",
     "text": [
      "True\n",
      "True\n",
      "False\n"
     ]
    }
   ],
   "source": [
    "x=5\n",
    "y=6\n",
    "print(x<10 and y<8)\n",
    "print(x<10 or y>8)\n",
    "print(not(x>1))"
   ]
  },
  {
   "cell_type": "code",
   "execution_count": 109,
   "metadata": {},
   "outputs": [
    {
     "name": "stdout",
     "output_type": "stream",
     "text": [
      "True\n"
     ]
    }
   ],
   "source": [
    "x=77\n",
    "y=77\n",
    "print(x is y)"
   ]
  },
  {
   "cell_type": "code",
   "execution_count": 113,
   "metadata": {},
   "outputs": [
    {
     "name": "stdout",
     "output_type": "stream",
     "text": [
      "True\n"
     ]
    }
   ],
   "source": [
    "x=55\n",
    "y=6\n",
    "print(x is not y)"
   ]
  },
  {
   "cell_type": "code",
   "execution_count": null,
   "metadata": {},
   "outputs": [
    {
     "name": "stdout",
     "output_type": "stream",
     "text": [
      "True\n",
      "False\n",
      "True\n",
      "False\n"
     ]
    }
   ],
   "source": [
    "my_list_1=[8,10,12,13,15]\n",
    "print(10 in my_list_1)\n",
    "print(11 in my_list_1)\n",
    "\n",
    "print(11 not in my_list_1)\n",
    "print(10 not in my_list_1)"
   ]
  },
  {
   "cell_type": "code",
   "execution_count": 134,
   "metadata": {},
   "outputs": [
    {
     "name": "stdout",
     "output_type": "stream",
     "text": [
      "0\n",
      "15\n"
     ]
    }
   ],
   "source": [
    "x=5\n",
    "y=10\n",
    "print(x & y)\n",
    "print(x|y)"
   ]
  },
  {
   "cell_type": "code",
   "execution_count": 140,
   "metadata": {},
   "outputs": [
    {
     "name": "stdout",
     "output_type": "stream",
     "text": [
      "hellow na\n"
     ]
    }
   ],
   "source": [
    "x=5\n",
    "y=6\n",
    "if(y<x):\n",
    "    print(\"hellow\")\n",
    "else:\n",
    "    print(\"hellow na\")"
   ]
  },
  {
   "cell_type": "code",
   "execution_count": 145,
   "metadata": {},
   "outputs": [
    {
     "name": "stdout",
     "output_type": "stream",
     "text": [
      "3\n"
     ]
    }
   ],
   "source": [
    "x=input(\"enter a number\")\n",
    "x=int(x)\n",
    "print(x)"
   ]
  },
  {
   "cell_type": "code",
   "execution_count": null,
   "metadata": {},
   "outputs": [
    {
     "name": "stdout",
     "output_type": "stream",
     "text": [
      "2s\n"
     ]
    }
   ],
   "source": [
    "x=input(\"input a word\")   #mekata dena hama ekakma string type eken gani\n",
    "print(x)"
   ]
  },
  {
   "cell_type": "code",
   "execution_count": 155,
   "metadata": {},
   "outputs": [
    {
     "name": "stdout",
     "output_type": "stream",
     "text": [
      "2 number is even\n"
     ]
    }
   ],
   "source": [
    "x=input(\"Enter number\")\n",
    "x=int(x)\n",
    "if(x % 2 == 0):\n",
    "    print(x,\"number is even\")\n",
    "elif(x % 2 == 1):\n",
    "    print(x,\"number is odd\")\n",
    "else:\n",
    "    print(\"number is 0\")"
   ]
  },
  {
   "cell_type": "code",
   "execution_count": null,
   "metadata": {},
   "outputs": [
    {
     "name": "stdout",
     "output_type": "stream",
     "text": [
      "number is positive number\n"
     ]
    }
   ],
   "source": [
    "x=input(\"enter number\")\n",
    "x=int(x)\n",
    "\n",
    "if(x>0):\n",
    "\n",
    "    if(x%7==0):\n",
    "        print(\"multiplication of 7\")\n",
    "    else:\n",
    "        print(\"not a multiplication of 7\")\n",
    "\n",
    "else:\n",
    "    print(\"number is not a positive number\")"
   ]
  },
  {
   "cell_type": "code",
   "execution_count": 162,
   "metadata": {},
   "outputs": [
    {
     "name": "stdout",
     "output_type": "stream",
     "text": [
      "x is greather than y\n"
     ]
    }
   ],
   "source": [
    "x=input(\"enter number\")\n",
    "x=int(x)\n",
    "y=4\n",
    "\n",
    "if(x==y):\n",
    "    print(\"numbers are equals\")\n",
    "elif(x>y):\n",
    "    print(\"x is greather than y\")\n",
    "else:\n",
    "    print(\"x is less than y\")"
   ]
  },
  {
   "cell_type": "code",
   "execution_count": 182,
   "metadata": {},
   "outputs": [
    {
     "name": "stdout",
     "output_type": "stream",
     "text": [
      "Grade: B\n"
     ]
    }
   ],
   "source": [
    "marks = input(\"Enter marks: \")\n",
    "\n",
    "x = int(marks)  # Convert input to integer\n",
    "\n",
    "if 0 <= x <= 50:\n",
    "        print(\"Grade: F\")\n",
    "elif 51 <= x <= 65:\n",
    "        print(\"Grade: D\")\n",
    "elif 66 <= x <= 75:\n",
    "        print(\"Grade: C\")\n",
    "elif 76 <= x <= 85:\n",
    "        print(\"Grade: B\")\n",
    "elif 86 <= x <= 100:\n",
    "        print(\"Grade: A\")\n",
    "else:\n",
    "        print(\"Wrong input. Marks should be between 0 and 100.\")"
   ]
  },
  {
   "cell_type": "code",
   "execution_count": 184,
   "metadata": {},
   "outputs": [
    {
     "name": "stdout",
     "output_type": "stream",
     "text": [
      "out of range\n"
     ]
    }
   ],
   "source": [
    "marks = input(\"Enter marks: \")\n",
    "\n",
    "x = int(marks)  # Convert input to integer\n",
    "\n",
    "if (x < 0 or x > 100):\n",
    "    print(\"out of range\")\n",
    "elif (x>=85):\n",
    "    print(\"grade is A\")\n",
    "elif (x>=75):\n",
    "    print(\"grade is B\")\n",
    "elif (x>=65):\n",
    "    print(\"grade is C\")\n",
    "elif(x >= 50):\n",
    "    print(\"grade is D\")\n",
    "else:\n",
    "    print(\"grade F\")"
   ]
  },
  {
   "cell_type": "code",
   "execution_count": null,
   "metadata": {},
   "outputs": [
    {
     "name": "stdout",
     "output_type": "stream",
     "text": [
      "even\n"
     ]
    }
   ],
   "source": [
    "#ternary operators\n",
    "x=10\n",
    "\n",
    "result=\"even\" if x % 2==0 else \"odd\"\n",
    "print(result)"
   ]
  },
  {
   "cell_type": "code",
   "execution_count": null,
   "metadata": {},
   "outputs": [
    {
     "name": "stdout",
     "output_type": "stream",
     "text": [
      "[10, 12, 9, 11, 15]\n",
      "[10, 9, 15]\n"
     ]
    }
   ],
   "source": [
    "my_list=[8,10,12,9,11,15,16,4]\n",
    "\n",
    "print(my_list[1:6])\n",
    "\n",
    "print(my_list[1:6:2])\n",
    "#[patanganna one eka:iwarawenna one eka+1:yann one step gana]"
   ]
  },
  {
   "cell_type": "code",
   "execution_count": 203,
   "metadata": {},
   "outputs": [
    {
     "name": "stdout",
     "output_type": "stream",
     "text": [
      "{1, 'b', 4, 'a'}\n",
      "4\n"
     ]
    }
   ],
   "source": [
    "dict_1={\"a\",1}\n",
    "dict_2={\"b\",4}\n",
    "\n",
    "dict_3=dict_1|dict_2\n",
    "\n",
    "print(dict_3)\n",
    "print(len(dict_3))"
   ]
  },
  {
   "cell_type": "code",
   "execution_count": null,
   "metadata": {},
   "outputs": [
    {
     "name": "stdout",
     "output_type": "stream",
     "text": [
      "10 12 7\n"
     ]
    }
   ],
   "source": [
    "#unpacking\n",
    "my_list=[10,12,7]\n",
    "x,y,z=my_list\n",
    "print(x,y,z)"
   ]
  },
  {
   "cell_type": "code",
   "execution_count": 205,
   "metadata": {},
   "outputs": [
    {
     "name": "stdout",
     "output_type": "stream",
     "text": [
      "10 12 7\n"
     ]
    }
   ],
   "source": [
    "my_tuple=(10,12,7)\n",
    "x,y,z=my_tuple\n",
    "print(x,y,z)"
   ]
  }
 ],
 "metadata": {
  "kernelspec": {
   "display_name": "Python 3",
   "language": "python",
   "name": "python3"
  },
  "language_info": {
   "codemirror_mode": {
    "name": "ipython",
    "version": 3
   },
   "file_extension": ".py",
   "mimetype": "text/x-python",
   "name": "python",
   "nbconvert_exporter": "python",
   "pygments_lexer": "ipython3",
   "version": "3.13.0"
  }
 },
 "nbformat": 4,
 "nbformat_minor": 2
}
